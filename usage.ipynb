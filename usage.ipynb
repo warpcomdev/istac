{
 "cells": [
  {
   "cell_type": "markdown",
   "metadata": {},
   "source": [
    "# ISTAC playground\n",
    "\n",
    "**NOTE: You must select the istac kernel to run this playbook!**\n",
    "\n",
    "This playbook uses a virtualenv that must be setup beforehand. This is a one-time only process, recorded here for future reference.\n",
    "The steps to create a virtualenv for this project and make it available as a jupyter kernel are:\n",
    "\n",
    "```bash\n",
    "# Move to the proper folder\n",
    "cd /home/jovyan/work/istac\n",
    "# Install pipenv\n",
    "pip install pipenv\n",
    "# Create the venv and install dependencies\n",
    "pipenv install\n",
    "# Activate the shell\n",
    "pipenv shell\n",
    "# Create a jupyter core\n",
    "python -m ipykernel install --user --name=istac\n",
    "```\n",
    "\n",
    "Now you can select the \"istac\" core when running this playbook."
   ]
  },
  {
   "cell_type": "code",
   "execution_count": 8,
   "metadata": {},
   "outputs": [],
   "source": [
    "# Import istac lib into your app\n",
    "import istac"
   ]
  },
  {
   "cell_type": "code",
   "execution_count": 9,
   "metadata": {},
   "outputs": [],
   "source": [
    "# Collect all indicators\n",
    "import aiohttp\n",
    "\n",
    "async with aiohttp.ClientSession() as session:\n",
    "    indicators = [ind async for ind in istac.indicators(session)]"
   ]
  },
  {
   "cell_type": "code",
   "execution_count": 10,
   "metadata": {},
   "outputs": [
    {
     "name": "stdout",
     "output_type": "stream",
     "text": [
      "['AFILIACIONES',\n",
      " 'TURISTAS',\n",
      " 'EMPLEO_REGISTRADO_AGRICULTURA',\n",
      " 'EMPLEO_REGISTRADO_HOSTELERIA',\n",
      " 'EMPLEO_REGISTRADO_INDUSTRIA',\n",
      " 'EMPLEO_REGISTRADO_SERVICIOS',\n",
      " 'POBLACION_INACTIVA',\n",
      " 'POBLACION_INACTIVA_HOMBRES',\n",
      " 'POBLACION_INACTIVA_MUJERES',\n",
      " 'PARO_REGISTRADO']\n"
     ]
    }
   ],
   "source": [
    "# Now you can list the indicators, e.g.\n",
    "from pprint import pprint\n",
    "\n",
    "pprint([ind.code for ind in indicators[:10]])"
   ]
  },
  {
   "cell_type": "code",
   "execution_count": 11,
   "metadata": {},
   "outputs": [
    {
     "data": {
      "text/html": [
       "<div>\n",
       "<style scoped>\n",
       "    .dataframe tbody tr th:only-of-type {\n",
       "        vertical-align: middle;\n",
       "    }\n",
       "\n",
       "    .dataframe tbody tr th {\n",
       "        vertical-align: top;\n",
       "    }\n",
       "\n",
       "    .dataframe thead th {\n",
       "        text-align: right;\n",
       "    }\n",
       "</style>\n",
       "<table border=\"1\" class=\"dataframe\">\n",
       "  <thead>\n",
       "    <tr style=\"text-align: right;\">\n",
       "      <th></th>\n",
       "      <th>code</th>\n",
       "      <th>version</th>\n",
       "      <th>title</th>\n",
       "      <th>subjectCode</th>\n",
       "      <th>subjectTitle</th>\n",
       "      <th>conceptDescription</th>\n",
       "      <th>notes</th>\n",
       "    </tr>\n",
       "    <tr>\n",
       "      <th>id</th>\n",
       "      <th></th>\n",
       "      <th></th>\n",
       "      <th></th>\n",
       "      <th></th>\n",
       "      <th></th>\n",
       "      <th></th>\n",
       "      <th></th>\n",
       "    </tr>\n",
       "  </thead>\n",
       "  <tbody>\n",
       "    <tr>\n",
       "      <th>AFILIACIONES</th>\n",
       "      <td>AFILIACIONES</td>\n",
       "      <td>1.13</td>\n",
       "      <td>{'es': 'Afiliaciones a la Seguridad Social', '...</td>\n",
       "      <td>051</td>\n",
       "      <td>{'es': '051 Empleo', '__default__': '051 Empleo'}</td>\n",
       "      <td>{'es': 'Puestos de trabajo registrados en la S...</td>\n",
       "      <td>{'en': 'Affiliations registered on data collec...</td>\n",
       "    </tr>\n",
       "    <tr>\n",
       "      <th>TURISTAS</th>\n",
       "      <td>TURISTAS</td>\n",
       "      <td>1.19</td>\n",
       "      <td>{'es': 'Turistas recibidos', 'en': 'Tourists a...</td>\n",
       "      <td>082</td>\n",
       "      <td>{'es': '082 Hostelería y turismo', '__default_...</td>\n",
       "      <td>{'es': 'Número de turistas recibidos por vía a...</td>\n",
       "      <td>{'en': 'Tourists are visitors who overnight in...</td>\n",
       "    </tr>\n",
       "    <tr>\n",
       "      <th>EMPLEO_REGISTRADO_AGRICULTURA</th>\n",
       "      <td>EMPLEO_REGISTRADO_AGRICULTURA</td>\n",
       "      <td>1.23</td>\n",
       "      <td>{'en': 'Registered employment. Agriculture', '...</td>\n",
       "      <td>051</td>\n",
       "      <td>{'es': '051 Empleo', '__default__': '051 Empleo'}</td>\n",
       "      <td>{'en': 'Jobs registered in the primary sector,...</td>\n",
       "      <td>{'es': 'En el sector primario se contabiliza c...</td>\n",
       "    </tr>\n",
       "    <tr>\n",
       "      <th>EMPLEO_REGISTRADO_HOSTELERIA</th>\n",
       "      <td>EMPLEO_REGISTRADO_HOSTELERIA</td>\n",
       "      <td>1.23</td>\n",
       "      <td>{'es': 'Empleo registrado. Hostelería', 'en': ...</td>\n",
       "      <td>051</td>\n",
       "      <td>{'es': '051 Empleo', '__default__': '051 Empleo'}</td>\n",
       "      <td>{'es': 'Puestos de trabajo registrados en la s...</td>\n",
       "      <td>{'es': 'Se entiende por empleo registrado a la...</td>\n",
       "    </tr>\n",
       "    <tr>\n",
       "      <th>EMPLEO_REGISTRADO_INDUSTRIA</th>\n",
       "      <td>EMPLEO_REGISTRADO_INDUSTRIA</td>\n",
       "      <td>1.24</td>\n",
       "      <td>{'es': 'Empleo registrado. Industria', 'en': '...</td>\n",
       "      <td>051</td>\n",
       "      <td>{'es': '051 Empleo', '__default__': '051 Empleo'}</td>\n",
       "      <td>{'en': 'Jobs registered in the industry and en...</td>\n",
       "      <td>{'es': 'Se entiende por empleo registrado a la...</td>\n",
       "    </tr>\n",
       "  </tbody>\n",
       "</table>\n",
       "</div>"
      ],
      "text/plain": [
       "                                                        code version  \\\n",
       "id                                                                     \n",
       "AFILIACIONES                                    AFILIACIONES    1.13   \n",
       "TURISTAS                                            TURISTAS    1.19   \n",
       "EMPLEO_REGISTRADO_AGRICULTURA  EMPLEO_REGISTRADO_AGRICULTURA    1.23   \n",
       "EMPLEO_REGISTRADO_HOSTELERIA    EMPLEO_REGISTRADO_HOSTELERIA    1.23   \n",
       "EMPLEO_REGISTRADO_INDUSTRIA      EMPLEO_REGISTRADO_INDUSTRIA    1.24   \n",
       "\n",
       "                                                                           title  \\\n",
       "id                                                                                 \n",
       "AFILIACIONES                   {'es': 'Afiliaciones a la Seguridad Social', '...   \n",
       "TURISTAS                       {'es': 'Turistas recibidos', 'en': 'Tourists a...   \n",
       "EMPLEO_REGISTRADO_AGRICULTURA  {'en': 'Registered employment. Agriculture', '...   \n",
       "EMPLEO_REGISTRADO_HOSTELERIA   {'es': 'Empleo registrado. Hostelería', 'en': ...   \n",
       "EMPLEO_REGISTRADO_INDUSTRIA    {'es': 'Empleo registrado. Industria', 'en': '...   \n",
       "\n",
       "                              subjectCode  \\\n",
       "id                                          \n",
       "AFILIACIONES                          051   \n",
       "TURISTAS                              082   \n",
       "EMPLEO_REGISTRADO_AGRICULTURA         051   \n",
       "EMPLEO_REGISTRADO_HOSTELERIA          051   \n",
       "EMPLEO_REGISTRADO_INDUSTRIA           051   \n",
       "\n",
       "                                                                    subjectTitle  \\\n",
       "id                                                                                 \n",
       "AFILIACIONES                   {'es': '051 Empleo', '__default__': '051 Empleo'}   \n",
       "TURISTAS                       {'es': '082 Hostelería y turismo', '__default_...   \n",
       "EMPLEO_REGISTRADO_AGRICULTURA  {'es': '051 Empleo', '__default__': '051 Empleo'}   \n",
       "EMPLEO_REGISTRADO_HOSTELERIA   {'es': '051 Empleo', '__default__': '051 Empleo'}   \n",
       "EMPLEO_REGISTRADO_INDUSTRIA    {'es': '051 Empleo', '__default__': '051 Empleo'}   \n",
       "\n",
       "                                                              conceptDescription  \\\n",
       "id                                                                                 \n",
       "AFILIACIONES                   {'es': 'Puestos de trabajo registrados en la S...   \n",
       "TURISTAS                       {'es': 'Número de turistas recibidos por vía a...   \n",
       "EMPLEO_REGISTRADO_AGRICULTURA  {'en': 'Jobs registered in the primary sector,...   \n",
       "EMPLEO_REGISTRADO_HOSTELERIA   {'es': 'Puestos de trabajo registrados en la s...   \n",
       "EMPLEO_REGISTRADO_INDUSTRIA    {'en': 'Jobs registered in the industry and en...   \n",
       "\n",
       "                                                                           notes  \n",
       "id                                                                                \n",
       "AFILIACIONES                   {'en': 'Affiliations registered on data collec...  \n",
       "TURISTAS                       {'en': 'Tourists are visitors who overnight in...  \n",
       "EMPLEO_REGISTRADO_AGRICULTURA  {'es': 'En el sector primario se contabiliza c...  \n",
       "EMPLEO_REGISTRADO_HOSTELERIA   {'es': 'Se entiende por empleo registrado a la...  \n",
       "EMPLEO_REGISTRADO_INDUSTRIA    {'es': 'Se entiende por empleo registrado a la...  "
      ]
     },
     "execution_count": 11,
     "metadata": {},
     "output_type": "execute_result"
    }
   ],
   "source": [
    "# And optionally, turn the list into a dataframe\n",
    "import pandas as pd\n",
    "\n",
    "fields = istac.Indicator.fields()\n",
    "ind_frame = pd.DataFrame((dict((field, getattr(ind, field)) for field in fields) for ind in indicators), columns=fields).set_index('id')\n",
    "for col in ('selfLink', 'systemSurveyLinks', 'kind'):\n",
    "    ind_frame = ind_frame.drop(col, axis=1)\n",
    "ind_frame.head()"
   ]
  },
  {
   "cell_type": "code",
   "execution_count": 12,
   "metadata": {},
   "outputs": [],
   "source": [
    "# Let's save the list\n",
    "ind_frame.to_csv(r'indicadores.csv', index=None, header=True)"
   ]
  },
  {
   "cell_type": "code",
   "execution_count": 26,
   "metadata": {},
   "outputs": [],
   "source": [
    "import asyncio\n",
    "\n",
    "# Get data (with dimensions) for some indicator\n",
    "async def get_data(indicator):\n",
    "    # Collect data and dimensions in parallel\n",
    "    async with aiohttp.ClientSession() as session:\n",
    "        joined, dims = await asyncio.gather(\n",
    "            # Get indicator data\n",
    "            istac.indicator_data(session, indicator, {\n",
    "                #'granularity': 'TIME[MONTHLY]',\n",
    "                #'representation': 'MEASURE[ABSOLUTE]',\n",
    "                'fields': '-observationsMetadata'\n",
    "            }),\n",
    "            # Get dimensions for this same indicator\n",
    "            istac.dimension_data(session, indicator)\n",
    "        )\n",
    "    # Join the data with the dimensions\n",
    "    for dim_name, dim_data in dims.items():\n",
    "        joined = joined.join(dim_data.points, on=dim_name, rsuffix=f'_{dim_name}')\n",
    "    # And set the index of the df to be the combination of dimensions\n",
    "    joined = joined.set_index(list(dims.keys()))\n",
    "    return joined.dropna(axis=1, how='all')"
   ]
  },
  {
   "cell_type": "markdown",
   "metadata": {},
   "source": [
    "## Get indicator data"
   ]
  },
  {
   "cell_type": "code",
   "execution_count": 42,
   "metadata": {},
   "outputs": [
    {
     "data": {
      "application/vnd.jupyter.widget-view+json": {
       "model_id": "24e1b598c03a4e6394c15917bcf357f8",
       "version_major": 2,
       "version_minor": 0
      },
      "text/plain": [
       "Dropdown(description='Indicador:', options=('ACCIDENTES_TRABAJO_BAJA', 'ACCIDENTES_TRABAJO_BAJA_JORNADAS', 'AF…"
      ]
     },
     "metadata": {},
     "output_type": "display_data"
    }
   ],
   "source": [
    "import ipywidgets as widgets\n",
    "\n",
    "options = sorted([ind.code for ind in indicators])\n",
    "selection = widgets.Dropdown(\n",
    "    options=options,\n",
    "    value=options[0],\n",
    "    description='Indicador:',\n",
    "    disabled=False,\n",
    ")\n",
    "\n",
    "selection"
   ]
  },
  {
   "cell_type": "code",
   "execution_count": 45,
   "metadata": {},
   "outputs": [
    {
     "name": "stdout",
     "output_type": "stream",
     "text": [
      "('GEOGRAPHICAL,TIME,MEASURE,F,title,granularityCode,latitude,longitude,title_TIME,granularityCode_TIME,title_MEASURE,decimalPlaces,isPercentage,type,unit,unitMultiplier,unitSymbol,unitSymbolPosition\\n'\n",
      " 'ES70,2018,ANNUAL_PUNTUAL_RATE,-1117,Canarias,REGIONS,28.2869925,-15.8335245,2018,YEARLY,Variación '\n",
      " 'anual,0,,AMOUNT,Cabezas,Unidades,,\\n'\n",
      " 'ES70,2018,INTERPERIOD_PUNTUAL_RATE,-1117,Canarias,REGIONS,28.2869925,-15.8335245,2018,YEARLY,Variación '\n",
      " 'interperiódica,0,,AMOUNT,Cabezas,Unidades,,\\n'\n",
      " 'ES70,2018,ANNUAL_PERCENTAGE_RATE,-2.29,Canarias,REGIONS,28.2869925,-15.8335245,2018,YEARLY,Tasa '\n",
      " 'variación anual,2,True,CHANGE_RATE,Porcentaje,,%,END\\n'\n",
      " 'ES70,2018,INTERPERIOD_PERCENTAGE_RATE,-2.29,Canarias,REGIONS,28.2869925,-15.8335245,2018,YEARLY,Tasa '\n",
      " 'variación interperiódica,2,True,CHANGE_RATE,Porcentaje,,%,END\\n'\n",
      " 'ES70,2018,ABSOLUTE,47689,Canarias,REGIONS,28.2869925,-15.8335245,2018,YEARLY,Dato,0,,AMOUNT,Cabezas,Unidades,,\\n')\n"
     ]
    }
   ],
   "source": [
    "# Export the indicator to CSV\n",
    "indicador = selection.value\n",
    "data = await get_data(indicador)\n",
    "data.to_csv(f'{indicador}.csv', index=True, header=True)\n",
    "pprint(data.head().to_csv())"
   ]
  },
  {
   "cell_type": "code",
   "execution_count": null,
   "metadata": {},
   "outputs": [],
   "source": []
  }
 ],
 "metadata": {
  "kernelspec": {
   "display_name": "istac",
   "language": "python",
   "name": "istac"
  },
  "language_info": {
   "codemirror_mode": {
    "name": "ipython",
    "version": 3
   },
   "file_extension": ".py",
   "mimetype": "text/x-python",
   "name": "python",
   "nbconvert_exporter": "python",
   "pygments_lexer": "ipython3",
   "version": "3.7.4"
  }
 },
 "nbformat": 4,
 "nbformat_minor": 4
}

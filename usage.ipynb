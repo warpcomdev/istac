{
 "cells": [
  {
   "cell_type": "markdown",
   "metadata": {},
   "source": [
    "# ISTAC playground\n",
    "\n",
    "**NOTE: You must select the istac kernel to run this playbook!**\n",
    "\n",
    "This playbook uses a virtualenv that must be setup beforehand. This is a one-time only process, recorded here for future reference.\n",
    "The steps to create a virtualenv for this project and make it available as a jupyter kernel are:\n",
    "\n",
    "```bash\n",
    "# Move to the proper folder\n",
    "cd /home/jovyan/work/istac\n",
    "# Install pipenv\n",
    "pip install pipenv\n",
    "# Create the venv and install dependencies\n",
    "pipenv install\n",
    "# Activate the shell\n",
    "pipenv shell\n",
    "# Create a jupyter core\n",
    "python -m ipykernel install --user --name=istac\n",
    "```\n",
    "\n",
    "Now you can select the \"istac\" core when running this playbook."
   ]
  },
  {
   "cell_type": "code",
   "execution_count": 50,
   "metadata": {},
   "outputs": [],
   "source": [
    "# Import istac lib into your app\n",
    "import istac"
   ]
  },
  {
   "cell_type": "code",
   "execution_count": 51,
   "metadata": {},
   "outputs": [],
   "source": [
    "# Collect all indicators\n",
    "import aiohttp\n",
    "\n",
    "async with aiohttp.ClientSession() as session:\n",
    "    indicators = [ind async for ind in istac.indicators(session)]"
   ]
  },
  {
   "cell_type": "code",
   "execution_count": 52,
   "metadata": {},
   "outputs": [
    {
     "name": "stdout",
     "output_type": "stream",
     "text": [
      "['AFILIACIONES',\n",
      " 'TURISTAS',\n",
      " 'EMPLEO_REGISTRADO_AGRICULTURA',\n",
      " 'EMPLEO_REGISTRADO_HOSTELERIA',\n",
      " 'EMPLEO_REGISTRADO_INDUSTRIA',\n",
      " 'EMPLEO_REGISTRADO_SERVICIOS',\n",
      " 'POBLACION_INACTIVA',\n",
      " 'POBLACION_INACTIVA_HOMBRES',\n",
      " 'POBLACION_INACTIVA_MUJERES',\n",
      " 'PARO_REGISTRADO']\n"
     ]
    }
   ],
   "source": [
    "# Now you can list the indicators, e.g.\n",
    "from pprint import pprint\n",
    "\n",
    "pprint([ind.code for ind in indicators[:10]])"
   ]
  },
  {
   "cell_type": "code",
   "execution_count": 53,
   "metadata": {},
   "outputs": [],
   "source": [
    "# And get data for same indicator, e.g.\n",
    "async with aiohttp.ClientSession() as session:\n",
    "    df = await istac.indicator_data(session, 'TURISTAS', {\n",
    "        'granularity': 'TIME[MONTHLY]',\n",
    "        'representation': 'MEASURE[ABSOLUTE]',\n",
    "        'fields': '-observationsMetadata'\n",
    "    })"
   ]
  },
  {
   "cell_type": "code",
   "execution_count": 54,
   "metadata": {},
   "outputs": [
    {
     "name": "stdout",
     "output_type": "stream",
     "text": [
      "('_offset,F,GEOGRAPHICAL,TIME,MEASURE\\n'\n",
      " '0,1325924,ES70,2019M12,ABSOLUTE\\n'\n",
      " '1,1289081,ES70,2019M11,ABSOLUTE\\n'\n",
      " '2,1291653,ES70,2019M10,ABSOLUTE\\n'\n",
      " '3,1128384,ES70,2019M09,ABSOLUTE\\n'\n",
      " '4,1289910,ES70,2019M08,ABSOLUTE\\n'\n",
      " '5,1272383,ES70,2019M07,ABSOLUTE\\n'\n",
      " '6,1127367,ES70,2019M06,ABSOLUTE\\n'\n",
      " '7,1066023,ES70,2019M05,ABSOLUTE\\n'\n",
      " '8,1240146,ES70,2019M04,ABSOLUTE\\n'\n",
      " '9,1477483,ES70,2019M03,ABSOLUTE\\n')\n"
     ]
    }
   ],
   "source": [
    "# further manipulate the data with pandas' DataFrame tools\n",
    "pprint(df.head(10).drop('_meta', axis=1).to_csv())"
   ]
  }
 ],
 "metadata": {
  "kernelspec": {
   "display_name": "istac",
   "language": "python",
   "name": "istac"
  },
  "language_info": {
   "codemirror_mode": {
    "name": "ipython",
    "version": 3
   },
   "file_extension": ".py",
   "mimetype": "text/x-python",
   "name": "python",
   "nbconvert_exporter": "python",
   "pygments_lexer": "ipython3",
   "version": "3.7.4"
  }
 },
 "nbformat": 4,
 "nbformat_minor": 4
}
